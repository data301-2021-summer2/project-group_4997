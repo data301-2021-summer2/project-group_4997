{
 "cells": [
  {
   "cell_type": "code",
   "execution_count": null,
   "id": "027c9112-24ed-4535-b7f4-a8a9bd1a9c28",
   "metadata": {},
   "outputs": [],
   "source": [
    "import pandas as pd\n",
    "import numpy as np\n",
    "import matplotlib.pyplot as plt\n",
    "import seaborn as sns"
   ]
  },
  {
   "cell_type": "code",
   "execution_count": null,
   "id": "a12180d9-a63a-48ff-ba68-7bea65b0042d",
   "metadata": {},
   "outputs": [],
   "source": [
    "df = (\n",
    "    pd.read_csv('../../data/raw/AirQualityUCI.csv', sep=\";\")\n",
    "    .drop(columns=[\"Unnamed: 15\",\"Unnamed: 16\"])\n",
    "    .rename(columns={\"CO(GT)\":\"CO\", \"PT08.S1(CO)\": \"Tin Oxide\", \"NMHC(GT)\": \"Avg. Benzene\", \"PT08.S2(NMHC)\": \"Titania\", \"NOx(GT)\": \"Avg. NO in ppb\", \"PT08.S3(NOx)\": \"Tungsten Oxide\", \n",
    "                     \"NO2(GT)\": \"NO2\", \"PT08.S4(NO2)\": \"Hr Avg. Tungsten Oxide\", \"PT08.S5(O3)\": \"Indium Oxide\"})\n",
    "    .dropna().reset_index(drop=True)\n",
    "    .replace(',','.', regex=True)\n",
    "    .loc[:, [\"Tin Oxide\", \"Titania\", \"Tungsten Oxide\", \"Indium Oxide\", \"T\"]]\n",
    ")\n",
    "\n",
    "df\n",
    "    \n"
   ]
  },
  {
   "cell_type": "code",
   "execution_count": null,
   "id": "9e2edf69-2e22-4ca1-a706-0590d988ea14",
   "metadata": {},
   "outputs": [],
   "source": []
  }
 ],
 "metadata": {
  "kernelspec": {
   "display_name": "Python 3 (ipykernel)",
   "language": "python",
   "name": "python3"
  },
  "language_info": {
   "codemirror_mode": {
    "name": "ipython",
    "version": 3
   },
   "file_extension": ".py",
   "mimetype": "text/x-python",
   "name": "python",
   "nbconvert_exporter": "python",
   "pygments_lexer": "ipython3",
   "version": "3.8.5"
  }
 },
 "nbformat": 4,
 "nbformat_minor": 5
}
